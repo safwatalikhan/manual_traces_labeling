{
 "cells": [
  {
   "cell_type": "code",
   "execution_count": 9,
   "id": "75ce7fb2",
   "metadata": {},
   "outputs": [],
   "source": [
    "import os\n",
    "import json\n",
    "import pandas as pd\n",
    "github_url=\"https://raw.githubusercontent.com/safwatalikhan/manual_traces_labeling/refs/heads/main/omninotes/images/\""
   ]
  },
  {
   "cell_type": "code",
   "execution_count": 12,
   "id": "ce1cffba",
   "metadata": {},
   "outputs": [],
   "source": [
    "df=pd.read_csv(\"use_case_titles.csv\",header=0)\n",
    "df.head()\n",
    "use_case_dict={}\n",
    "for i,row in df.iterrows():\n",
    "    use_case_dict[row[\"use case #\"]]=row[\"use case title\"]\n",
    "json.dump(use_case_dict,open(\"use_case_titles.json\",\"w\"))"
   ]
  },
  {
   "cell_type": "code",
   "execution_count": 8,
   "id": "7cbf3069-543e-486e-9d39-e5cbe3b354aa",
   "metadata": {},
   "outputs": [],
   "source": [
    "#Make tasks.json file\n",
    "tasks=[]\n",
    "for file in os.listdir(\"omninotes/images\"):\n",
    "    ucNum=file.split(\"_\")[0].upper()\n",
    "    imgSerial=int(file.split(\"_\")[-1].split(\".\")[0].replace(\"ss\",\"\"))\n",
    "    imgObj={\"image\":f\"{github_url}{file}\", \n",
    "            \"image_serial\": imgSerial,\n",
    "            \"use case #\": ucNum,\n",
    "            \"use case title\": use_case_dict[ucNum]}\n",
    "    tasks.append(imgObj)\n",
    "json.dump(tasks,open(\"tasks.json\",\"w\"))"
   ]
  },
  {
   "cell_type": "code",
   "execution_count": null,
   "id": "ebf0344f",
   "metadata": {},
   "outputs": [],
   "source": []
  }
 ],
 "metadata": {
  "kernelspec": {
   "display_name": "Python 3 (ipykernel)",
   "language": "python",
   "name": "python3"
  },
  "language_info": {
   "codemirror_mode": {
    "name": "ipython",
    "version": 3
   },
   "file_extension": ".py",
   "mimetype": "text/x-python",
   "name": "python",
   "nbconvert_exporter": "python",
   "pygments_lexer": "ipython3",
   "version": "3.10.12"
  }
 },
 "nbformat": 4,
 "nbformat_minor": 5
}
